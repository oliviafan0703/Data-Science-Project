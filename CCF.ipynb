{
  "nbformat": 4,
  "nbformat_minor": 0,
  "metadata": {
    "colab": {
      "provenance": []
    },
    "kernelspec": {
      "name": "python3",
      "display_name": "Python 3"
    },
    "language_info": {
      "name": "python"
    }
  },
  "cells": [
    {
      "cell_type": "code",
      "execution_count": 1,
      "metadata": {
        "id": "5EL7zVlR5Y89"
      },
      "outputs": [],
      "source": [
        "import numpy as np\n",
        "import pandas as pd\n",
        "from sklearn.preprocessing import MinMaxScaler\n",
        "import matplotlib.pyplot as plt"
      ]
    },
    {
      "cell_type": "code",
      "source": [
        "df = pd.read_csv('hsx_movie_master.csv')\n",
        "df2 = pd.read_csv('hsx_movie_prices.csv')\n",
        "df33 = pd.read_csv('boxofficemojo_daily_boxoffice.csv')"
      ],
      "metadata": {
        "id": "nYf1lffh8BHb"
      },
      "execution_count": 2,
      "outputs": []
    },
    {
      "cell_type": "code",
      "source": [
        "unique_identifiers = df2['identifier'].unique()"
      ],
      "metadata": {
        "id": "g02Id1ED_4Qk"
      },
      "execution_count": 3,
      "outputs": []
    },
    {
      "cell_type": "code",
      "source": [
        "#print(unique_identifiers)"
      ],
      "metadata": {
        "id": "KS-pNkLFAAoT"
      },
      "execution_count": 4,
      "outputs": []
    },
    {
      "cell_type": "code",
      "source": [
        "identifier_name = '1917'\n",
        "filtered_df = df[df['identifier'] == identifier_name]\n",
        "#print(filtered_df)\n",
        "df3 = pd.read_csv('boxofficemojo_releases.csv')\n",
        "title_name = filtered_df['title']\n",
        "fdf3 = df3[df3['title'] == title_name.values[0]]\n",
        "#print(fdf3)\n",
        "df4 = pd.read_csv('boxofficemojo_daily_boxoffice.csv')\n",
        "ide_name2 = fdf3['identifier']\n",
        "fdf4 = df4[df4['identifier'] == ide_name2.values[0]]\n",
        "print(fdf4)"
      ],
      "metadata": {
        "colab": {
          "base_uri": "https://localhost:8080/"
        },
        "id": "k57dZUSR8GWD",
        "outputId": "b8fd633c-d7b9-4315-fcfb-7fb4c4a82e0b"
      },
      "execution_count": 5,
      "outputs": [
        {
          "output_type": "stream",
          "name": "stdout",
          "text": [
            "         bo_date    identifier  daily_domestic_gross  daily_theater_count  \\\n",
            "2016  2020-03-19  rl2969994753                   225                766.0   \n",
            "2047  2020-03-18  rl2969994753                   740                766.0   \n",
            "2085  2020-03-17  rl2969994753                  5860                766.0   \n",
            "2126  2020-03-16  rl2969994753                 26785                766.0   \n",
            "2172  2020-03-15  rl2969994753                 92380                766.0   \n",
            "...          ...           ...                   ...                  ...   \n",
            "6082  2019-12-29  rl2969994753                191895                 11.0   \n",
            "6137  2019-12-28  rl2969994753                203219                 11.0   \n",
            "6190  2019-12-27  rl2969994753                181102                 11.0   \n",
            "6244  2019-12-26  rl2969994753                186837                 11.0   \n",
            "6298  2019-12-25  rl2969994753                251262                 11.0   \n",
            "\n",
            "                 retrieved_at                     inserted_at  \n",
            "2016  2020-04-03 08:00:34 UTC  2020-10-29 09:31:32.321988 UTC  \n",
            "2047  2020-04-02 08:00:11 UTC  2020-10-29 09:31:32.321988 UTC  \n",
            "2085  2020-04-01 08:00:10 UTC  2020-10-29 09:31:32.321988 UTC  \n",
            "2126  2020-03-31 08:00:11 UTC  2020-10-29 09:31:32.321988 UTC  \n",
            "2172  2020-03-30 08:00:13 UTC  2020-10-29 09:31:32.321988 UTC  \n",
            "...                       ...                             ...  \n",
            "6082  2020-01-13 09:10:14 UTC  2020-10-29 09:31:32.321988 UTC  \n",
            "6137  2020-01-12 09:00:14 UTC  2020-10-29 09:31:32.321988 UTC  \n",
            "6190  2020-01-11 09:10:03 UTC  2020-10-29 09:31:32.321988 UTC  \n",
            "6244  2020-01-10 09:00:02 UTC  2020-10-29 09:31:32.321988 UTC  \n",
            "6298  2020-01-09 09:00:13 UTC  2020-10-29 09:31:32.321988 UTC  \n",
            "\n",
            "[86 rows x 6 columns]\n"
          ]
        }
      ]
    },
    {
      "cell_type": "code",
      "source": [
        "fdf2 = df2[df2['identifier'] == '1917']\n",
        "#print(fdf2)"
      ],
      "metadata": {
        "id": "iXJtFWg3bKNv"
      },
      "execution_count": 6,
      "outputs": []
    },
    {
      "cell_type": "code",
      "source": [
        "dates = ['2020-02-03', '2020-02-02', '2020-02-01', '2020-01-31', '2020-01-30', '2020-01-29', '2020-01-28', '2020-01-27', '2020-01-26', '2020-01-25', '2020-01-24', '2020-01-23', '2020-01-22', '2020-01-21', '2020-01-20', '2020-01-19', '2020-01-18', '2020-01-17', '2020-01-16', '2020-01-15', '2020-01-14', '2020-01-13', '2020-01-12', '2020-01-11', '2020-01-10', '2020-01-09', '2020-01-08', '2020-01-07', '2020-01-06', '2020-01-05', '2020-01-04', '2020-01-03', '2020-01-02', '2020-01-01']\n",
        "cmb_df = pd.DataFrame()\n",
        "cmb_df2 = pd.DataFrame()"
      ],
      "metadata": {
        "id": "wOB65YGcYZbf"
      },
      "execution_count": 7,
      "outputs": []
    },
    {
      "cell_type": "code",
      "source": [
        "# Stock price for movie 1917\n",
        "for date in dates:\n",
        "  df_date = fdf2[fdf2['retrieved_at'].str.contains(date)]\n",
        "  first_date = df_date.iloc[0]\n",
        "\n",
        "  cmb_df = pd.concat([cmb_df, first_date.to_frame().T])\n",
        "\n",
        "print(cmb_df)"
      ],
      "metadata": {
        "colab": {
          "base_uri": "https://localhost:8080/"
        },
        "id": "mrA7cNnPZwog",
        "outputId": "62295119-8778-4f47-833c-ac0288faf143"
      },
      "execution_count": 8,
      "outputs": [
        {
          "output_type": "stream",
          "name": "stdout",
          "text": [
            "      identifier   price shares_long shares_short trading_vol  \\\n",
            "46305       1917  117.44   108700160    5726576.0   1229089.0   \n",
            "46329       1917  118.55   109095660    5626576.0   1329999.0   \n",
            "46353       1917  117.68   108904105    5836604.0   1026200.0   \n",
            "46377       1917   119.2   109509905    5782604.0    896561.0   \n",
            "46402       1917  119.18   109770343    5995602.0    676127.0   \n",
            "46426       1917  119.15   110026917    6060601.0   1069001.0   \n",
            "46450       1917  119.73   110287977    6041600.0    772060.0   \n",
            "46475       1917   118.7   110385937    6156600.0   1244054.0   \n",
            "46499       1917  117.87   110888241    6449448.0   2007998.0   \n",
            "46522       1917   115.9   110588141    6992347.0   1063000.0   \n",
            "46546       1917   114.1   110339691    7402356.0   1568701.0   \n",
            "46570       1917  112.86   110659842    7597206.0   2337952.0   \n",
            "46594       1917  116.27   112129823    7225154.0   1270676.0   \n",
            "46618       1917  118.17   112746424    6918328.0   2569168.0   \n",
            "46642       1917  120.37   114269551    6789155.0   1656444.0   \n",
            "46666       1917  116.75   114614202    7373024.0   4083012.0   \n",
            "46690       1917  118.79   116724641    6396405.0   1990234.0   \n",
            "46715       1917  116.55   116434031    6494422.0   1960831.0   \n",
            "46739       1917  114.23   116398567    7241575.0   2407365.0   \n",
            "46763       1917  115.36   116970362    6507380.0   2835424.0   \n",
            "46787       1917  112.11   116748185    7560380.0   3588734.0   \n",
            "46811       1917  111.11   117947191    7849592.0   8928545.0   \n",
            "46834       1917  105.24   122926393    7305681.0  10837047.0   \n",
            "46858       1917   101.2   127318475    5214111.0   2560843.0   \n",
            "46882       1917   97.38   126484062    5467110.0   4987467.0   \n",
            "46907       1917   90.78   123122223    5930683.0   6145529.0   \n",
            "46931       1917   85.19   119208482    7415309.0   3715900.0   \n",
            "46954       1917   85.03   119814039    6442190.0   9624585.0   \n",
            "46977       1917   82.67   121403177    4205760.0   5289468.0   \n",
            "47000       1917   77.18   117377458    4265305.0   1200010.0   \n",
            "47024       1917   76.54   117227448    4231971.0   1014300.0   \n",
            "47048       1917    77.4   117056669    4181195.0   1130881.0   \n",
            "47071       1917   77.15   116991487    4244612.0   1586189.0   \n",
            "47095       1917   76.22   116663586    4290891.0    848368.0   \n",
            "\n",
            "                  retrieved_at                     inserted_at  \n",
            "46305  2020-02-03 23:58:07 UTC  2020-10-29 15:03:37.839845 UTC  \n",
            "46329  2020-02-02 23:58:09 UTC  2020-10-29 15:03:37.839845 UTC  \n",
            "46353  2020-02-01 23:58:09 UTC  2020-10-29 15:03:37.839845 UTC  \n",
            "46377  2020-01-31 23:58:08 UTC  2020-10-29 15:03:37.839845 UTC  \n",
            "46402  2020-01-30 23:58:09 UTC  2020-10-29 15:03:37.839845 UTC  \n",
            "46426  2020-01-29 23:58:26 UTC  2020-10-29 15:03:37.839845 UTC  \n",
            "46450  2020-01-28 23:58:09 UTC  2020-10-29 15:03:37.839845 UTC  \n",
            "46475  2020-01-27 23:58:08 UTC  2020-10-29 15:03:37.839845 UTC  \n",
            "46499  2020-01-26 23:58:09 UTC  2020-10-29 15:03:37.839845 UTC  \n",
            "46522  2020-01-25 23:58:10 UTC  2020-10-29 15:03:37.839845 UTC  \n",
            "46546  2020-01-24 23:58:10 UTC  2020-10-29 15:03:37.839845 UTC  \n",
            "46570  2020-01-23 23:58:09 UTC  2020-10-29 15:03:37.839845 UTC  \n",
            "46594  2020-01-22 23:58:14 UTC  2020-10-29 15:03:37.839845 UTC  \n",
            "46618  2020-01-21 23:58:09 UTC  2020-10-29 15:03:37.839845 UTC  \n",
            "46642  2020-01-20 23:58:09 UTC  2020-10-29 15:03:37.839845 UTC  \n",
            "46666  2020-01-19 23:58:10 UTC  2020-10-29 15:03:37.839845 UTC  \n",
            "46690  2020-01-18 23:58:09 UTC  2020-10-29 15:03:37.839845 UTC  \n",
            "46715  2020-01-17 23:58:09 UTC  2020-10-29 15:03:37.839845 UTC  \n",
            "46739  2020-01-16 23:58:08 UTC  2020-10-29 15:03:37.839845 UTC  \n",
            "46763  2020-01-15 23:58:09 UTC  2020-10-29 15:03:37.839845 UTC  \n",
            "46787  2020-01-14 23:58:09 UTC  2020-10-29 15:03:37.839845 UTC  \n",
            "46811  2020-01-13 23:58:11 UTC  2020-10-29 15:03:37.839845 UTC  \n",
            "46834  2020-01-12 23:58:09 UTC  2020-10-29 15:03:37.839845 UTC  \n",
            "46858  2020-01-11 23:58:07 UTC  2020-10-29 15:03:37.839845 UTC  \n",
            "46882  2020-01-10 23:58:07 UTC  2020-10-29 15:03:37.839845 UTC  \n",
            "46907  2020-01-09 23:58:10 UTC  2020-10-29 15:03:37.839845 UTC  \n",
            "46931  2020-01-08 23:58:09 UTC  2020-10-29 15:03:37.839845 UTC  \n",
            "46954  2020-01-07 23:58:07 UTC  2020-10-29 15:03:37.839845 UTC  \n",
            "46977  2020-01-06 23:58:08 UTC  2020-10-29 15:03:37.839845 UTC  \n",
            "47000  2020-01-05 23:58:07 UTC  2020-10-29 15:03:37.839845 UTC  \n",
            "47024  2020-01-04 23:58:09 UTC  2020-10-29 15:03:37.839845 UTC  \n",
            "47048  2020-01-03 23:58:09 UTC  2020-10-29 15:03:37.839845 UTC  \n",
            "47071  2020-01-02 23:58:07 UTC  2020-10-29 15:03:37.839845 UTC  \n",
            "47095  2020-01-01 23:58:08 UTC  2020-10-29 15:03:37.839845 UTC  \n"
          ]
        }
      ]
    },
    {
      "cell_type": "code",
      "source": [
        "fdf3 = df33[df33['identifier'] == 'rl2969994753']\n",
        "#print(fdf3)"
      ],
      "metadata": {
        "id": "_QECG1ot0O2I"
      },
      "execution_count": 9,
      "outputs": []
    },
    {
      "cell_type": "code",
      "source": [
        "# Box office for movie 1917\n",
        "for date in dates:\n",
        "  df_date2 = fdf3[fdf3['bo_date'].str.contains(date)]\n",
        "  first_date2 = df_date2.iloc[0]\n",
        "\n",
        "  cmb_df2 = pd.concat([cmb_df2, first_date2.to_frame().T])\n",
        "\n",
        "print(cmb_df2)"
      ],
      "metadata": {
        "colab": {
          "base_uri": "https://localhost:8080/"
        },
        "id": "eE5ONSZ_1OIX",
        "outputId": "f7742db9-284a-4c31-9d0a-ae13159099da"
      },
      "execution_count": 10,
      "outputs": [
        {
          "output_type": "stream",
          "name": "stdout",
          "text": [
            "         bo_date    identifier daily_domestic_gross daily_theater_count  \\\n",
            "4288  2020-02-03  rl2969994753               904455              3987.0   \n",
            "4337  2020-02-02  rl2969994753              1430940              3987.0   \n",
            "4385  2020-02-01  rl2969994753              5270120              3987.0   \n",
            "4434  2020-01-31  rl2969994753              2796175              3987.0   \n",
            "4482  2020-01-30  rl2969994753              1241435              3937.0   \n",
            "4530  2020-01-29  rl2969994753              1252900              3937.0   \n",
            "4578  2020-01-28  rl2969994753              1912585              3937.0   \n",
            "4627  2020-01-27  rl2969994753              1179580              3937.0   \n",
            "4678  2020-01-26  rl2969994753              4610120              3937.0   \n",
            "4725  2020-01-25  rl2969994753              7288305              3937.0   \n",
            "4773  2020-01-24  rl2969994753              4018155              3937.0   \n",
            "4822  2020-01-23  rl2969994753              1772655              3612.0   \n",
            "4871  2020-01-22  rl2969994753              1889790              3612.0   \n",
            "4920  2020-01-21  rl2969994753              2896830              3612.0   \n",
            "4969  2020-01-20  rl2969994753              4922850              3612.0   \n",
            "5023  2020-01-19  rl2969994753              6345865              3612.0   \n",
            "5072  2020-01-18  rl2969994753              9410710              3612.0   \n",
            "5120  2020-01-17  rl2969994753              6227625              3612.0   \n",
            "5167  2020-01-16  rl2969994753              3055675              3434.0   \n",
            "5216  2020-01-15  rl2969994753              3399885              3434.0   \n",
            "5266  2020-01-14  rl2969994753              5288640              3434.0   \n",
            "5313  2020-01-13  rl2969994753              3151305              3434.0   \n",
            "5361  2020-01-12  rl2969994753              9294845              3434.0   \n",
            "5408  2020-01-11  rl2969994753             13742670              3434.0   \n",
            "5455  2020-01-10  rl2969994753             13962685              3434.0   \n",
            "5517  2020-01-09  rl2969994753                79391                11.0   \n",
            "5566  2020-01-08  rl2969994753               108388                11.0   \n",
            "5617  2020-01-07  rl2969994753               113587                11.0   \n",
            "5665  2020-01-06  rl2969994753               112349                11.0   \n",
            "5717  2020-01-05  rl2969994753               188717                11.0   \n",
            "5768  2020-01-04  rl2969994753               238577                11.0   \n",
            "5818  2020-01-03  rl2969994753               190403                11.0   \n",
            "5866  2020-01-02  rl2969994753               146660                11.0   \n",
            "5922  2020-01-01  rl2969994753               217029                11.0   \n",
            "\n",
            "                 retrieved_at                     inserted_at  \n",
            "4288  2020-02-18 09:00:02 UTC  2020-10-29 09:31:32.321988 UTC  \n",
            "4337  2020-02-17 09:00:01 UTC  2020-10-29 09:31:32.321988 UTC  \n",
            "4385  2020-02-16 09:00:02 UTC  2020-10-29 09:31:32.321988 UTC  \n",
            "4434  2020-02-15 09:00:18 UTC  2020-10-29 09:31:32.321988 UTC  \n",
            "4482  2020-02-14 09:00:02 UTC  2020-10-29 09:31:32.321988 UTC  \n",
            "4530  2020-02-13 09:00:13 UTC  2020-10-29 09:31:32.321988 UTC  \n",
            "4578  2020-02-12 09:00:02 UTC  2020-10-29 09:31:32.321988 UTC  \n",
            "4627  2020-02-11 09:00:03 UTC  2020-10-29 09:31:32.321988 UTC  \n",
            "4678  2020-02-10 09:00:02 UTC  2020-10-29 09:31:32.321988 UTC  \n",
            "4725  2020-02-09 09:00:02 UTC  2020-10-29 09:31:32.321988 UTC  \n",
            "4773  2020-02-08 09:00:02 UTC  2020-10-29 09:31:32.321988 UTC  \n",
            "4822  2020-02-07 09:00:15 UTC  2020-10-29 09:31:32.321988 UTC  \n",
            "4871  2020-02-06 09:00:15 UTC  2020-10-29 09:31:32.321988 UTC  \n",
            "4920  2020-02-05 09:00:12 UTC  2020-10-29 09:31:32.321988 UTC  \n",
            "4969  2020-02-04 09:00:02 UTC  2020-10-29 09:31:32.321988 UTC  \n",
            "5023  2020-02-03 09:00:11 UTC  2020-10-29 09:31:32.321988 UTC  \n",
            "5072  2020-02-02 09:00:12 UTC  2020-10-29 09:31:32.321988 UTC  \n",
            "5120  2020-01-31 09:00:11 UTC  2020-10-29 09:31:32.321988 UTC  \n",
            "5167  2020-01-31 09:00:10 UTC  2020-10-29 09:31:32.321988 UTC  \n",
            "5216  2020-01-30 09:00:12 UTC  2020-10-29 09:31:32.321988 UTC  \n",
            "5266  2020-01-29 09:00:14 UTC  2020-10-29 09:31:32.321988 UTC  \n",
            "5313  2020-01-28 09:00:28 UTC  2020-10-29 09:31:32.321988 UTC  \n",
            "5361  2020-01-27 09:00:10 UTC  2020-10-29 09:31:32.321988 UTC  \n",
            "5408  2020-01-26 09:00:17 UTC  2020-10-29 09:31:32.321988 UTC  \n",
            "5455  2020-01-25 09:00:12 UTC  2020-10-29 09:31:32.321988 UTC  \n",
            "5517  2020-01-24 09:00:09 UTC  2020-10-29 09:31:32.321988 UTC  \n",
            "5566  2020-01-23 09:00:11 UTC  2020-10-29 09:31:32.321988 UTC  \n",
            "5617  2020-01-22 09:00:13 UTC  2020-10-29 09:31:32.321988 UTC  \n",
            "5665  2020-01-21 09:00:02 UTC  2020-10-29 09:31:32.321988 UTC  \n",
            "5717  2020-01-20 09:00:02 UTC  2020-10-29 09:31:32.321988 UTC  \n",
            "5768  2020-01-19 09:10:11 UTC  2020-10-29 09:31:32.321988 UTC  \n",
            "5818  2020-01-18 09:00:01 UTC  2020-10-29 09:31:32.321988 UTC  \n",
            "5866  2020-01-17 09:00:03 UTC  2020-10-29 09:31:32.321988 UTC  \n",
            "5922  2020-01-16 09:00:17 UTC  2020-10-29 09:31:32.321988 UTC  \n"
          ]
        }
      ]
    },
    {
      "cell_type": "code",
      "source": [
        "a = cmb_df['price'].to_numpy()\n",
        "b = cmb_df2['daily_domestic_gross'].to_numpy()"
      ],
      "metadata": {
        "id": "ImjjBEQ-6MPD"
      },
      "execution_count": 11,
      "outputs": []
    },
    {
      "cell_type": "code",
      "source": [
        "a_nrm = (a - np.mean(a)) / np.std(a) / len(a)\n",
        "b_nrm = (b - np.mean(b)) / np.std(b)"
      ],
      "metadata": {
        "id": "4cU5kEXgFoTH"
      },
      "execution_count": 15,
      "outputs": []
    },
    {
      "cell_type": "code",
      "source": [
        "corr = np.correlate(a_nrm, b_nrm, mode='full')\n",
        "print(corr)"
      ],
      "metadata": {
        "colab": {
          "base_uri": "https://localhost:8080/"
        },
        "id": "8ogcrOIV6fge",
        "outputId": "99fb4d22-58e9-4a03-e86e-2bd5c341c4f7"
      },
      "execution_count": 16,
      "outputs": [
        {
          "output_type": "stream",
          "name": "stdout",
          "text": [
            "[-0.0188287537549149 -0.039880122101536485 -0.059294167924398525\n",
            " -0.08086539961290116 -0.10273651213854385 -0.1250125073673849\n",
            " -0.14821467669037094 -0.16978551385861157 -0.19017667561516177\n",
            " -0.12746587639133297 -0.0553406408039755 -0.012955625066407251\n",
            " -0.003295236122472258 0.013655464040166567 0.016502095793259355\n",
            " 0.020883873991104196 0.035537900296955985 0.06553128441457065\n",
            " 0.06866134219112624 0.05455609453661074 0.033816434870729044\n",
            " 0.039902178071800666 0.07515512976370158 0.13971211118852275\n",
            " 0.1866814854855339 0.2356152288261263 0.2530020785258916\n",
            " 0.2670886565222419 0.2905302873156458 0.3291913871008492\n",
            " 0.37853720222416753 0.3949241749825502 0.3656937051692719\n",
            " 0.3171473251466278 0.20978309927059025 0.08825298663398545\n",
            " 0.007076867794899161 -0.056481186501361996 -0.15896533617669065\n",
            " -0.2804795416197465 -0.36987487003998926 -0.451027866235031\n",
            " -0.5476791549924274 -0.4110522036718534 -0.26680232498957385\n",
            " -0.19838880890033483 -0.22829828457659254 -0.20494592648817225\n",
            " -0.20303184763320947 -0.21195098682233382 -0.15876168880239813\n",
            " -0.05024379306047012 0.008997304215149892 0.03580949391789096\n",
            " 0.04548776032549354 0.04902114606245545 0.036360964422186844\n",
            " 0.05743724764976175 0.13488060324964615 0.15976852263511337\n",
            " 0.12342498215206907 0.10912832190037527 0.0855188634734929\n",
            " 0.052120122892175574 0.04011759322924897 0.06787184049821832\n",
            " 0.03845236717799011]\n"
          ]
        }
      ]
    },
    {
      "cell_type": "code",
      "source": [
        "fig = plt.figure(figsize=[10, 6])\n",
        "plt.plot(corr)\n",
        "plt.title('CCF')\n",
        "plt.xlabel('Lag')\n",
        "plt.ylabel('Correlation')\n",
        "plt.show()"
      ],
      "metadata": {
        "colab": {
          "base_uri": "https://localhost:8080/",
          "height": 404
        },
        "id": "occr8F3G7LHG",
        "outputId": "f481c1ce-4682-4604-8204-0bb43318c0f1"
      },
      "execution_count": 17,
      "outputs": [
        {
          "output_type": "display_data",
          "data": {
            "text/plain": [
              "<Figure size 720x432 with 1 Axes>"
            ],
            "image/png": "[encoded data removed]"
          },
          "metadata": {
            "needs_background": "light"
          }
        }
      ]
    }
  ]
}