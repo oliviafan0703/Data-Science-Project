{
  "nbformat": 4,
  "nbformat_minor": 0,
  "metadata": {
    "colab": {
      "provenance": []
    },
    "kernelspec": {
      "name": "python3",
      "display_name": "Python 3"
    },
    "language_info": {
      "name": "python"
    }
  },
  "cells": [
    {
      "cell_type": "code",
      "execution_count": null,
      "metadata": {
        "id": "5EL7zVlR5Y89"
      },
      "outputs": [],
      "source": [
        "import numpy as np\n",
        "import pandas as pd\n",
        "from sklearn.preprocessing import MinMaxScaler\n",
        "import matplotlib.pyplot as plt"
      ]
    },
    {
      "cell_type": "code",
      "source": [
        "df = pd.read_csv('hsx_movie_master.csv')\n",
        "df2 = pd.read_csv('hsx_movie_prices.csv')\n",
        "df33 = pd.read_csv('boxofficemojo_daily_boxoffice.csv')"
      ],
      "metadata": {
        "id": "nYf1lffh8BHb"
      },
      "execution_count": null,
      "outputs": []
    },
    {
      "cell_type": "code",
      "source": [
        "unique_identifiers = df2['identifier'].unique()"
      ],
      "metadata": {
        "id": "g02Id1ED_4Qk"
      },
      "execution_count": null,
      "outputs": []
    },
    {
      "cell_type": "code",
      "source": [
        "print(unique_identifiers)"
      ],
      "metadata": {
        "id": "KS-pNkLFAAoT",
        "colab": {
          "base_uri": "https://localhost:8080/"
        },
        "outputId": "d7205fef-20e9-46d9-d7aa-c91537ebbca9"
      },
      "execution_count": null,
      "outputs": [
        {
          "output_type": "stream",
          "name": "stdout",
          "text": [
            "['1031' '12MOR' '12OCB' '13LIV' '17BRD' '1906' '1917' '1CNAT' '1NIMI'\n",
            " '1STCH' '2067' '20LUS' '21JS3' '247' '2HRTS' '2LUTS' '2NDAC' '2PT0' '355'\n",
            " '3CHRS' '3LWRD' '3PEAK' '3SECS' '3TYOL' '40THV' '48HRS' '48MDW' '4CHIT'\n",
            " '4GDAY' '55STP' '5ABLT' '5EYES' '5FTAP' '5NAFD' '65' '6MILL' '6MTMN'\n",
            " '6UNDG' '7500' '8FSLV' '9DAYS' 'AASOW' 'ABLO2' 'ABMMB' 'ABSUS' 'ACHB'\n",
            " 'ACPLS' 'ACTSP' 'ADAM2' 'ADDAM' 'ADOG2' 'ADPHW' 'AERON' 'AFARM' 'AFEVT'\n",
            " 'AFEXL' 'AFOWL' 'AFRCA' 'AFREV' 'AFRGN' 'AFTR1' 'AFTR2' 'AFTR3' 'AFTRM'\n",
            " 'AFTRY' 'AGAEN' 'AHFOG' 'AIFFD' 'AJTS' 'AKIRA' 'ALAD2' 'ALADN' 'ALAD']\n"
          ]
        }
      ]
    },
    {
      "cell_type": "code",
      "source": [
        "identifier_name = 'ALADN'\n",
        "filtered_df = df[df['identifier'] == identifier_name]\n",
        "#print(filtered_df)\n",
        "df3 = pd.read_csv('boxofficemojo_releases.csv')\n",
        "title_name = filtered_df['title']\n",
        "fdf3 = df3[df3['title'] == title_name.values[0]]\n",
        "print(fdf3)\n",
        "#df4 = pd.read_csv('boxofficemojo_daily_boxoffice.csv')\n",
        "#ide_name2 = fdf3['identifier']\n",
        "#fdf4 = df4[df4['identifier'] == ide_name2.values[0]]\n",
        "#print(fdf4)"
      ],
      "metadata": {
        "colab": {
          "base_uri": "https://localhost:8080/"
        },
        "id": "k57dZUSR8GWD",
        "outputId": "f4fb9c6d-7ec5-4fdd-e230-f4a5c97ccc79"
      },
      "execution_count": null,
      "outputs": [
        {
          "output_type": "stream",
          "name": "stdout",
          "text": [
            "         identifier         old_bomojo_id    title imdb_title_identifier  \\\n",
            "396    rl3246360065  disneyfairytale22019  Aladdin             tt6139732   \n",
            "14082  rl4148200961                   NaN  Aladdin             tt0103639   \n",
            "\n",
            "                                   imdb_title_bomojo_url       budget  \\\n",
            "396    https://www.boxofficemojo.com/title/tt6139732/...  183000000.0   \n",
            "14082  https://www.boxofficemojo.com/title/tt0103639/...          NaN   \n",
            "\n",
            "                          distributor_name  domestic_gross  \\\n",
            "396    Walt Disney Studios Motion Pictures       355559216   \n",
            "14082  Walt Disney Studios Motion Pictures       217350219   \n",
            "\n",
            "       international_gross  worldwide_gross  ...  release_date  \\\n",
            "396              695134737       1050693953  ...    2019-05-24   \n",
            "14082            286700000        504050219  ...    1992-11-13   \n",
            "\n",
            "       widest_release                                           synopsis  \\\n",
            "396    4,476 theaters  A kind-hearted street urchin and a power-hungr...   \n",
            "14082  2,331 theaters  A kindhearted street urchin and a power-hungry...   \n",
            "\n",
            "                                                  genres mpaa_rating  \\\n",
            "396    ['Adventure', 'Family', 'Fantasy', 'Musical', ...          PG   \n",
            "14082  ['Adventure', 'Animation', 'Comedy', 'Family',...         NaN   \n",
            "\n",
            "      running_time hsx_symbol  bomojo_type  \\\n",
            "396     2 hr 8 min        NaN      release   \n",
            "14082  1 hr 30 min        NaN      release   \n",
            "\n",
            "                                                     url  \\\n",
            "396    https://www.boxofficemojo.com/release/rl324636...   \n",
            "14082  https://www.boxofficemojo.com/release/rl414820...   \n",
            "\n",
            "                          updated_at  \n",
            "396    2020-10-28 07:31:20.40873 UTC  \n",
            "14082  2020-10-28 07:31:20.40873 UTC  \n",
            "\n",
            "[2 rows x 21 columns]\n"
          ]
        }
      ]
    },
    {
      "cell_type": "code",
      "source": [
        "fdf2a = df2[df2['identifier'] == '3PEAK']\n",
        "print(fdf2a)"
      ],
      "metadata": {
        "colab": {
          "base_uri": "https://localhost:8080/"
        },
        "id": "yUMr74AEPeSd",
        "outputId": "58648268-40ef-4990-8b46-cdd2baf1b65a"
      },
      "execution_count": null,
      "outputs": [
        {
          "output_type": "stream",
          "name": "stdout",
          "text": [
            "       identifier  price  shares_long  shares_short  trading_vol  \\\n",
            "147579      3PEAK   0.36      1488743    26760422.0     450000.0   \n",
            "147580      3PEAK   0.37      1488743    26760422.0     400000.0   \n",
            "147581      3PEAK   0.38      1488743    26760422.0     350000.0   \n",
            "147582      3PEAK   0.38      1488743    26760422.0     350000.0   \n",
            "147583      3PEAK   0.40      1488743    26760422.0     250000.0   \n",
            "...           ...    ...          ...           ...          ...   \n",
            "150474      3PEAK   2.00       722004    10349980.0   11370984.0   \n",
            "150475      3PEAK   2.00       622003     9029981.0    9900984.0   \n",
            "150476      3PEAK   2.00       622003     6589982.0    7410985.0   \n",
            "150477      3PEAK   2.00       522003     4284982.0    4905985.0   \n",
            "150478      3PEAK   2.00       100000           0.0     100000.0   \n",
            "\n",
            "                   retrieved_at                     inserted_at  \n",
            "147579  2019-09-16 22:06:21 UTC  2020-10-29 15:03:37.839845 UTC  \n",
            "147580  2019-09-16 21:06:06 UTC  2020-10-29 15:03:37.839845 UTC  \n",
            "147581  2019-09-16 20:05:50 UTC  2020-10-29 15:03:37.839845 UTC  \n",
            "147582  2019-09-16 19:05:57 UTC  2020-10-29 15:03:37.839845 UTC  \n",
            "147583  2019-09-16 18:06:03 UTC  2020-10-29 15:03:37.839845 UTC  \n",
            "...                         ...                             ...  \n",
            "150474  2019-05-06 20:02:38 UTC  2020-10-29 15:03:37.839845 UTC  \n",
            "150475  2019-05-06 19:02:35 UTC  2020-10-29 15:03:37.839845 UTC  \n",
            "150476  2019-05-06 18:02:38 UTC  2020-10-29 15:03:37.839845 UTC  \n",
            "150477  2019-05-06 17:02:46 UTC  2020-10-29 15:03:37.839845 UTC  \n",
            "150478  2019-05-06 16:02:47 UTC  2020-10-29 15:03:37.839845 UTC  \n",
            "\n",
            "[2900 rows x 7 columns]\n"
          ]
        }
      ]
    },
    {
      "cell_type": "code",
      "source": [
        "datesa = ['2019-08-10', '2019-08-09', '2019-08-08', '2019-08-06', '2019-08-04', '2019-08-01', '2019-07-31', '2019-07-30', '2019-07-29', '2019-07-28', '2019-07-27', '2019-07-26', '2019-07-25', '2019-07-24', '2019-07-23', '2019-07-22', '2019-07-21', '2019-07-20', '2019-07-19', '2019-07-18', '2019-07-17', '2019-07-16', '2019-07-15', '2019-07-14', '2019-07-13', '2019-07-12', '2019-07-11', '2019-07-07', '2019-07-05', '2019-07-03', '2019-07-02']\n",
        "cmb_dfa = pd.DataFrame()\n",
        "cmb_df2a = pd.DataFrame()"
      ],
      "metadata": {
        "id": "il3R-8GDPl5v"
      },
      "execution_count": null,
      "outputs": []
    },
    {
      "cell_type": "code",
      "source": [
        "# Stock price for movie Three Peaks\n",
        "for date in datesa:\n",
        "  df_datea = fdf2a[fdf2a['retrieved_at'].str.contains(date)]\n",
        "  first_datea = df_datea.iloc[0]\n",
        "\n",
        "  cmb_dfa = pd.concat([cmb_dfa, first_datea.to_frame().T])\n",
        "\n",
        "#print(cmb_dfa)\n",
        "#print(df_datea)"
      ],
      "metadata": {
        "id": "M2MQVl6wPoac"
      },
      "execution_count": null,
      "outputs": []
    },
    {
      "cell_type": "code",
      "source": [
        "fdf3a = df33[df33['identifier'] == 'rl621315585']\n",
        "#print(fdf3a)"
      ],
      "metadata": {
        "id": "wU6i44IQPrFN"
      },
      "execution_count": null,
      "outputs": []
    },
    {
      "cell_type": "code",
      "source": [
        "# Box office for movie Three Peaks\n",
        "for date in datesa:\n",
        "  df_date2a = fdf3a[fdf3a['bo_date'].str.contains(date)]\n",
        "  first_date2a = df_date2a.iloc[0]\n",
        "\n",
        "  cmb_df2a = pd.concat([cmb_df2a, first_date2a.to_frame().T])\n",
        "\n",
        "#print(cmb_df2a)"
      ],
      "metadata": {
        "id": "n9yHJs9jPtfs"
      },
      "execution_count": null,
      "outputs": []
    },
    {
      "cell_type": "code",
      "source": [
        "aa = cmb_dfa['price'].to_numpy()\n",
        "ba = cmb_df2a['daily_domestic_gross'].to_numpy()\n",
        "a_nrma = (aa - np.mean(aa)) / np.std(aa) / len(aa)\n",
        "b_nrma = (ba - np.mean(ba)) / np.std(ba)"
      ],
      "metadata": {
        "id": "RP0DXGVhPwYy"
      },
      "execution_count": null,
      "outputs": []
    },
    {
      "cell_type": "code",
      "source": [
        "corra = np.correlate(a_nrma, b_nrma, mode='same')\n",
        "#print(corr)"
      ],
      "metadata": {
        "id": "8EUD0cf_P016"
      },
      "execution_count": null,
      "outputs": []
    },
    {
      "cell_type": "code",
      "source": [
        "fig = plt.figure(figsize=[10, 6])\n",
        "plt.plot(corra)\n",
        "plt.title('CCF for Three Peaks')\n",
        "plt.xlabel('Lag')\n",
        "plt.ylabel('Correlation')\n",
        "plt.show()"
      ],
      "metadata": {
        "colab": {
          "base_uri": "https://localhost:8080/",
          "height": 404
        },
        "id": "zpXiOpEyP2tx",
        "outputId": "f36088f4-c0fe-49ba-acc7-011046b2ece6"
      },
      "execution_count": null,
      "outputs": [
        {
          "output_type": "display_data",
          "data": {
            "text/plain": [
              "<Figure size 720x432 with 1 Axes>"
            ],
            "image/png": "[encoded data removed]"
          },
          "metadata": {
            "needs_background": "light"
          }
        }
      ]
    },
    {
      "cell_type": "code",
      "source": [
        "fdf2b = df2[df2['identifier'] == 'ACPLS']\n",
        "print(fdf2b)"
      ],
      "metadata": {
        "colab": {
          "base_uri": "https://localhost:8080/"
        },
        "id": "rAvQneiTZDeO",
        "outputId": "7331511b-e9cc-411f-f903-e64c800898d2"
      },
      "execution_count": null,
      "outputs": [
        {
          "output_type": "stream",
          "name": "stdout",
          "text": [
            "       identifier  price  shares_long  shares_short  trading_vol  \\\n",
            "335224      ACPLS   0.59    5965603.0    28687076.0     702152.0   \n",
            "335225      ACPLS   0.59    5965603.0    28687076.0     702152.0   \n",
            "335226      ACPLS   0.59    5965603.0    28687076.0     702152.0   \n",
            "335227      ACPLS   0.59    5965603.0    28687076.0     702152.0   \n",
            "335228      ACPLS   0.59    5965603.0    28687076.0     652152.0   \n",
            "...           ...    ...          ...           ...          ...   \n",
            "336980      ACPLS   1.81    6215950.0    22477496.0     250000.0   \n",
            "336981      ACPLS   1.81    6215950.0    22477496.0     300000.0   \n",
            "336982      ACPLS   1.81    6215950.0    22477496.0     300000.0   \n",
            "336983      ACPLS   1.81    6215950.0    22477496.0     300000.0   \n",
            "336984      ACPLS   1.82    6215950.0    22477496.0     250000.0   \n",
            "\n",
            "                   retrieved_at                     inserted_at  \n",
            "335224  2019-04-08 23:00:15 UTC  2020-10-29 15:03:37.839845 UTC  \n",
            "335225  2019-04-08 22:00:14 UTC  2020-10-29 15:03:37.839845 UTC  \n",
            "335226  2019-04-08 21:00:15 UTC  2020-10-29 15:03:37.839845 UTC  \n",
            "335227  2019-04-08 20:00:14 UTC  2020-10-29 15:03:37.839845 UTC  \n",
            "335228  2019-04-08 19:00:14 UTC  2020-10-29 15:03:37.839845 UTC  \n",
            "...                         ...                             ...  \n",
            "336980  2018-12-25 15:00:18 UTC  2020-10-29 15:03:37.839845 UTC  \n",
            "336981  2018-12-25 07:00:15 UTC  2020-10-29 15:03:37.839845 UTC  \n",
            "336982  2018-12-25 04:35:19 UTC  2020-10-29 15:03:37.839845 UTC  \n",
            "336983  2018-12-25 02:35:21 UTC  2020-10-29 15:03:37.839845 UTC  \n",
            "336984  2018-12-25 01:49:12 UTC  2020-10-29 15:03:37.839845 UTC  \n",
            "\n",
            "[1761 rows x 7 columns]\n"
          ]
        }
      ]
    },
    {
      "cell_type": "code",
      "source": [
        "datesb = ['2019-02-07', '2019-02-06', '2019-02-05', '2019-02-04', '2019-02-03', '2019-02-02', '2019-02-01', '2019-01-31', '2019-01-30', '2019-01-29', '2019-01-24', '2019-01-23', '2019-01-22', '2019-01-21', '2019-01-20', '2019-01-19', '2019-01-18']\n",
        "cmb_dfb = pd.DataFrame()\n",
        "cmb_df2b = pd.DataFrame()"
      ],
      "metadata": {
        "id": "B4Ntq4CbZJf7"
      },
      "execution_count": null,
      "outputs": []
    },
    {
      "cell_type": "code",
      "source": [
        "# Stock price for movie An Acceptable Loss\n",
        "for date in datesb:\n",
        "  df_dateb = fdf2b[fdf2b['retrieved_at'].str.contains(date)]\n",
        "  first_dateb = df_dateb.iloc[0]\n",
        "\n",
        "  cmb_dfb = pd.concat([cmb_dfb, first_dateb.to_frame().T])\n",
        "\n",
        "#print(cmb_dfa)\n",
        "#print(df_datea)"
      ],
      "metadata": {
        "id": "LMv52pt2ZL5E"
      },
      "execution_count": null,
      "outputs": []
    },
    {
      "cell_type": "code",
      "source": [
        "fdf3b = df33[df33['identifier'] == 'rl906593793']\n",
        "print(fdf3b)"
      ],
      "metadata": {
        "colab": {
          "base_uri": "https://localhost:8080/"
        },
        "id": "96ZQoH8uZQZi",
        "outputId": "212948d6-cb45-4467-95d2-b26a4dd573e5"
      },
      "execution_count": null,
      "outputs": [
        {
          "output_type": "stream",
          "name": "stdout",
          "text": [
            "          bo_date   identifier  daily_domestic_gross  daily_theater_count  \\\n",
            "24615  2019-02-07  rl906593793                   641                 14.0   \n",
            "24671  2019-02-06  rl906593793                   514                 14.0   \n",
            "24723  2019-02-05  rl906593793                   413                 14.0   \n",
            "24776  2019-02-04  rl906593793                   530                 14.0   \n",
            "24831  2019-02-03  rl906593793                   606                 14.0   \n",
            "24882  2019-02-02  rl906593793                  1914                 14.0   \n",
            "24936  2019-02-01  rl906593793                  1004                 14.0   \n",
            "24987  2019-01-31  rl906593793                  1285                 25.0   \n",
            "25032  2019-01-30  rl906593793                  3795                 25.0   \n",
            "25091  2019-01-29  rl906593793                  2858                 25.0   \n",
            "25149  2019-01-28  rl906593793                  1187                 25.0   \n",
            "25355  2019-01-24  rl906593793                   188                  1.0   \n",
            "25400  2019-01-23  rl906593793                   122                  1.0   \n",
            "25444  2019-01-22  rl906593793                   178                  1.0   \n",
            "25493  2019-01-21  rl906593793                   175                  1.0   \n",
            "25539  2019-01-20  rl906593793                   483                  1.0   \n",
            "25584  2019-01-19  rl906593793                  1233                  1.0   \n",
            "25629  2019-01-18  rl906593793                  1731                  1.0   \n",
            "\n",
            "                  retrieved_at                     inserted_at  \n",
            "24615  2019-03-09 23:45:02 UTC  2020-10-29 09:31:32.321988 UTC  \n",
            "24671  2019-03-08 23:45:02 UTC  2020-10-29 09:31:32.321988 UTC  \n",
            "24723  2019-03-07 23:45:02 UTC  2020-10-29 09:31:32.321988 UTC  \n",
            "24776  2019-03-06 23:45:02 UTC  2020-10-29 09:31:32.321988 UTC  \n",
            "24831  2019-03-05 23:45:02 UTC  2020-10-29 09:31:32.321988 UTC  \n",
            "24882  2019-03-04 23:45:02 UTC  2020-10-29 09:31:32.321988 UTC  \n",
            "24936  2019-03-03 23:45:02 UTC  2020-10-29 09:31:32.321988 UTC  \n",
            "24987  2019-03-02 23:45:02 UTC  2020-10-29 09:31:32.321988 UTC  \n",
            "25032  2019-03-01 23:45:02 UTC  2020-10-29 09:31:32.321988 UTC  \n",
            "25091  2019-02-28 23:45:02 UTC  2020-10-29 09:31:32.321988 UTC  \n",
            "25149  2019-02-27 23:45:02 UTC  2020-10-29 09:31:32.321988 UTC  \n",
            "25355  2019-02-23 23:45:02 UTC  2020-10-29 09:31:32.321988 UTC  \n",
            "25400  2019-02-22 23:45:02 UTC  2020-10-29 09:31:32.321988 UTC  \n",
            "25444  2019-02-21 23:45:02 UTC  2020-10-29 09:31:32.321988 UTC  \n",
            "25493  2019-02-20 23:45:02 UTC  2020-10-29 09:31:32.321988 UTC  \n",
            "25539  2019-02-19 23:45:02 UTC  2020-10-29 09:31:32.321988 UTC  \n",
            "25584  2019-02-18 23:45:02 UTC  2020-10-29 09:31:32.321988 UTC  \n",
            "25629  2019-02-17 23:45:02 UTC  2020-10-29 09:31:32.321988 UTC  \n"
          ]
        }
      ]
    },
    {
      "cell_type": "code",
      "source": [
        "# Box office for movie An Acceptable Loss\n",
        "for date in datesb:\n",
        "  df_date2b = fdf3b[fdf3b['bo_date'].str.contains(date)]\n",
        "  first_date2b = df_date2b.iloc[0]\n",
        "\n",
        "  cmb_df2b = pd.concat([cmb_df2b, first_date2b.to_frame().T])\n",
        "\n",
        "#print(cmb_df2a)"
      ],
      "metadata": {
        "id": "q8A8ih9sZSOn"
      },
      "execution_count": null,
      "outputs": []
    },
    {
      "cell_type": "code",
      "source": [
        "ab = cmb_dfb['price'].to_numpy()\n",
        "bb = cmb_df2b['daily_domestic_gross'].to_numpy()\n",
        "a_nrmb = (ab - np.mean(ab)) / np.std(ab) / len(ab)\n",
        "b_nrmb = (bb - np.mean(bb)) / np.std(bb)"
      ],
      "metadata": {
        "id": "I6_qJJaTZT_-"
      },
      "execution_count": null,
      "outputs": []
    },
    {
      "cell_type": "code",
      "source": [
        "corrb = np.correlate(a_nrmb, b_nrmb, mode='same')\n",
        "#print(corr)"
      ],
      "metadata": {
        "id": "QtxldOLKZVmN"
      },
      "execution_count": null,
      "outputs": []
    },
    {
      "cell_type": "code",
      "source": [
        "fig = plt.figure(figsize=[10, 6])\n",
        "plt.plot(corrb)\n",
        "plt.title('CCF for An Acceptable Loss')\n",
        "plt.xlabel('Lag')\n",
        "plt.ylabel('Correlation')\n",
        "plt.show()"
      ],
      "metadata": {
        "colab": {
          "base_uri": "https://localhost:8080/",
          "height": 404
        },
        "id": "mR8aISqzZXkg",
        "outputId": "cc51cc66-94a4-4a13-b90d-5556354778a2"
      },
      "execution_count": null,
      "outputs": [
        {
          "output_type": "display_data",
          "data": {
            "text/plain": [
              "<Figure size 720x432 with 1 Axes>"
            ],
            "image/png": "[encoded data removed]"
          },
          "metadata": {
            "needs_background": "light"
          }
        }
      ]
    },
    {
      "cell_type": "code",
      "source": [
        "fdf2c = df2[df2['identifier'] == 'ALITA']\n",
        "print(fdf2c)"
      ],
      "metadata": {
        "colab": {
          "base_uri": "https://localhost:8080/"
        },
        "id": "bQ1IOxp2bxi8",
        "outputId": "972d1803-3599-4f2f-9074-a542382b2240"
      },
      "execution_count": null,
      "outputs": [
        {
          "output_type": "stream",
          "name": "stdout",
          "text": [
            "       identifier  price  shares_long  shares_short  trading_vol  \\\n",
            "520237      ALITA  77.39    343219179    19639905.0    1162001.0   \n",
            "520238      ALITA  77.39    343219179    19639905.0    1162001.0   \n",
            "520239      ALITA  77.39    343219179    19639905.0    1162001.0   \n",
            "520240      ALITA  77.39    343219179    19639905.0    1162001.0   \n",
            "520241      ALITA  77.51    343279179    19640105.0    1101801.0   \n",
            "...           ...    ...          ...           ...          ...   \n",
            "521321      ALITA  74.11    379687622    17950700.0     220000.0   \n",
            "521322      ALITA  74.13    379707622    17850700.0     713400.0   \n",
            "521323      ALITA  74.13    379707622    17850700.0     713400.0   \n",
            "521324      ALITA  74.40    379807622    17750700.0     513400.0   \n",
            "521325      ALITA  74.40    379807622    17750700.0     513400.0   \n",
            "\n",
            "                   retrieved_at                     inserted_at  \n",
            "520237  2019-03-11 23:00:15 UTC  2020-10-29 15:03:37.839845 UTC  \n",
            "520238  2019-03-11 22:00:12 UTC  2020-10-29 15:03:37.839845 UTC  \n",
            "520239  2019-03-11 21:00:11 UTC  2020-10-29 15:03:37.839845 UTC  \n",
            "520240  2019-03-11 20:00:11 UTC  2020-10-29 15:03:37.839845 UTC  \n",
            "520241  2019-03-11 19:00:11 UTC  2020-10-29 15:03:37.839845 UTC  \n",
            "...                         ...                             ...  \n",
            "521321  2018-12-25 15:00:15 UTC  2020-10-29 15:03:37.839845 UTC  \n",
            "521322  2018-12-25 07:00:13 UTC  2020-10-29 15:03:37.839845 UTC  \n",
            "521323  2018-12-25 04:35:17 UTC  2020-10-29 15:03:37.839845 UTC  \n",
            "521324  2018-12-25 02:35:18 UTC  2020-10-29 15:03:37.839845 UTC  \n",
            "521325  2018-12-25 01:49:08 UTC  2020-10-29 15:03:37.839845 UTC  \n",
            "\n",
            "[1089 rows x 7 columns]\n"
          ]
        }
      ]
    },
    {
      "cell_type": "code",
      "source": [
        "datesc = ['2019-03-11', '2019-03-10', '2019-03-09', '2019-03-08', '2019-03-07', '2019-03-06', '2019-03-05', '2019-03-04', '2019-03-03', '2019-03-02', '2019-03-01', '2019-02-28', '2019-02-27', '2019-02-26', '2019-02-25', '2019-02-24', '2019-02-23', '2019-02-22', '2019-02-21', '2019-02-20', '2019-02-19', '2019-02-18', '2019-02-17', '2019-02-16', '2019-02-15', '2019-02-14']\n",
        "cmb_dfc = pd.DataFrame()\n",
        "cmb_df2c = pd.DataFrame()"
      ],
      "metadata": {
        "id": "XfjiBKr-b0CC"
      },
      "execution_count": null,
      "outputs": []
    },
    {
      "cell_type": "code",
      "source": [
        "# Stock price for movie Alita\n",
        "for date in datesc:\n",
        "  df_datec = fdf2c[fdf2c['retrieved_at'].str.contains(date)]\n",
        "  first_datec = df_datec.iloc[0]\n",
        "\n",
        "  cmb_dfc = pd.concat([cmb_dfc, first_datec.to_frame().T])\n",
        "\n",
        "#print(cmb_dfa)\n",
        "#print(df_datea)"
      ],
      "metadata": {
        "id": "nTfHzlIgb2Ko"
      },
      "execution_count": null,
      "outputs": []
    },
    {
      "cell_type": "code",
      "source": [
        "fdf3c = df33[df33['identifier'] == 'rl1887340033']\n",
        "print(fdf3c)"
      ],
      "metadata": {
        "colab": {
          "base_uri": "https://localhost:8080/"
        },
        "id": "IdqhIoWfb4TS",
        "outputId": "e2e5f8a6-efbf-4c57-e980-cb841b111f90"
      },
      "execution_count": null,
      "outputs": [
        {
          "output_type": "stream",
          "name": "stdout",
          "text": [
            "          bo_date    identifier  daily_domestic_gross  daily_theater_count  \\\n",
            "18846  2019-05-09  rl1887340033                  2283                 61.0   \n",
            "18901  2019-05-08  rl1887340033                  2367                 61.0   \n",
            "18957  2019-05-07  rl1887340033                  2770                 61.0   \n",
            "19013  2019-05-06  rl1887340033                  2147                 61.0   \n",
            "19068  2019-05-05  rl1887340033                  7576                 61.0   \n",
            "...           ...           ...                   ...                  ...   \n",
            "23897  2019-02-18  rl1887340033               5008487               3790.0   \n",
            "23958  2019-02-17  rl1887340033               9300205               3790.0   \n",
            "24020  2019-02-16  rl1887340033              11702169               3790.0   \n",
            "24080  2019-02-15  rl1887340033               7523239               3790.0   \n",
            "24140  2019-02-14  rl1887340033               8716232               3790.0   \n",
            "\n",
            "                  retrieved_at                     inserted_at  \n",
            "18846  2019-06-08 23:45:02 UTC  2020-10-29 09:31:32.321988 UTC  \n",
            "18901  2019-06-07 23:45:02 UTC  2020-10-29 09:31:32.321988 UTC  \n",
            "18957  2019-06-06 23:45:03 UTC  2020-10-29 09:31:32.321988 UTC  \n",
            "19013  2019-06-05 23:45:02 UTC  2020-10-29 09:31:32.321988 UTC  \n",
            "19068  2019-06-04 23:45:02 UTC  2020-10-29 09:31:32.321988 UTC  \n",
            "...                        ...                             ...  \n",
            "23897  2019-03-20 23:45:02 UTC  2020-10-29 09:31:32.321988 UTC  \n",
            "23958  2019-03-19 23:45:03 UTC  2020-10-29 09:31:32.321988 UTC  \n",
            "24020  2019-03-18 23:45:02 UTC  2020-10-29 09:31:32.321988 UTC  \n",
            "24080  2019-03-17 23:45:02 UTC  2020-10-29 09:31:32.321988 UTC  \n",
            "24140  2019-03-16 23:45:02 UTC  2020-10-29 09:31:32.321988 UTC  \n",
            "\n",
            "[85 rows x 6 columns]\n"
          ]
        }
      ]
    },
    {
      "cell_type": "code",
      "source": [
        "# Box office for movie Alita\n",
        "for date in datesc:\n",
        "  df_date2c = fdf3c[fdf3c['bo_date'].str.contains(date)]\n",
        "  first_date2c = df_date2c.iloc[0]\n",
        "\n",
        "  cmb_df2c = pd.concat([cmb_df2c, first_date2c.to_frame().T])\n",
        "\n",
        "#print(cmb_df2a)"
      ],
      "metadata": {
        "id": "iQDXg8_Qb6ch"
      },
      "execution_count": null,
      "outputs": []
    },
    {
      "cell_type": "code",
      "source": [
        "from numpy.lib import bincount\n",
        "ac = cmb_dfc['price'].to_numpy()\n",
        "bc = cmb_df2c['daily_domestic_gross'].to_numpy()\n",
        "a_nrmc = (ac - np.mean(ac)) / np.std(ac) / len(ac)\n",
        "b_nrmc = (bc - np.mean(bc)) / np.std(bc)"
      ],
      "metadata": {
        "id": "hJz7o3R9b8Rk"
      },
      "execution_count": null,
      "outputs": []
    },
    {
      "cell_type": "code",
      "source": [
        "corrc = np.correlate(a_nrmc, b_nrmc, mode='same')\n",
        "#print(corr)"
      ],
      "metadata": {
        "id": "9rBq0K9Pb-HC"
      },
      "execution_count": null,
      "outputs": []
    },
    {
      "cell_type": "code",
      "source": [
        "fig = plt.figure(figsize=[10, 6])\n",
        "plt.plot(corrc)\n",
        "plt.title('CCF for Alita: Battle Angel')\n",
        "plt.xlabel('Lag')\n",
        "plt.ylabel('Correlation')\n",
        "plt.show()"
      ],
      "metadata": {
        "colab": {
          "base_uri": "https://localhost:8080/",
          "height": 404
        },
        "id": "_SmfGZRycAEC",
        "outputId": "4aee1349-5cc2-4f29-cabc-c6c0c4159975"
      },
      "execution_count": null,
      "outputs": [
        {
          "output_type": "display_data",
          "data": {
            "text/plain": [
              "<Figure size 720x432 with 1 Axes>"
            ],
            "image/png": "[encoded data removed]"
          },
          "metadata": {
            "needs_background": "light"
          }
        }
      ]
    },
    {
      "cell_type": "code",
      "source": [
        "fdf2d = df2[df2['identifier'] == 'ALADN']\n",
        "print(fdf2d)"
      ],
      "metadata": {
        "colab": {
          "base_uri": "https://localhost:8080/"
        },
        "id": "RbytRgzxhVR-",
        "outputId": "ee84545a-c3da-4a11-d15a-bba84ff21a6f"
      },
      "execution_count": null,
      "outputs": [
        {
          "output_type": "stream",
          "name": "stdout",
          "text": [
            "       identifier   price  shares_long  shares_short  trading_vol  \\\n",
            "488416      ALADN  260.44    185368176    18236426.0    1483948.0   \n",
            "488417      ALADN  260.44    185368176    18236426.0    1483948.0   \n",
            "488418      ALADN  260.43    185268176    18236426.0    1383948.0   \n",
            "488419      ALADN  260.43    185268176    18336426.0    1283948.0   \n",
            "488420      ALADN  260.43    185268176    18336426.0    1233948.0   \n",
            "...           ...     ...          ...           ...          ...   \n",
            "491806      ALADN  334.14    256310557     2384759.0     151000.0   \n",
            "491807      ALADN  333.88    256409557     2384759.0    1804363.0   \n",
            "491808      ALADN  333.46    256374557     2384759.0    1769363.0   \n",
            "491809      ALADN  333.46    256373357     2384759.0    1718163.0   \n",
            "491810      ALADN  333.46    256323357     2384759.0    1668163.0   \n",
            "\n",
            "                   retrieved_at                     inserted_at  \n",
            "488416  2019-06-17 23:00:24 UTC  2020-10-29 15:03:37.839845 UTC  \n",
            "488417  2019-06-17 22:00:25 UTC  2020-10-29 15:03:37.839845 UTC  \n",
            "488418  2019-06-17 21:00:24 UTC  2020-10-29 15:03:37.839845 UTC  \n",
            "488419  2019-06-17 20:00:25 UTC  2020-10-29 15:03:37.839845 UTC  \n",
            "488420  2019-06-17 19:00:24 UTC  2020-10-29 15:03:37.839845 UTC  \n",
            "...                         ...                             ...  \n",
            "491806  2018-12-25 15:00:14 UTC  2020-10-29 15:03:37.839845 UTC  \n",
            "491807  2018-12-25 07:00:12 UTC  2020-10-29 15:03:37.839845 UTC  \n",
            "491808  2018-12-25 04:35:16 UTC  2020-10-29 15:03:37.839845 UTC  \n",
            "491809  2018-12-25 02:35:17 UTC  2020-10-29 15:03:37.839845 UTC  \n",
            "491810  2018-12-25 01:49:08 UTC  2020-10-29 15:03:37.839845 UTC  \n",
            "\n",
            "[3395 rows x 7 columns]\n"
          ]
        }
      ]
    },
    {
      "cell_type": "code",
      "source": [
        "datesd = ['2019-06-17', '2019-06-16', '2019-06-15', '2019-06-14', '2019-06-13', '2019-06-12', '2019-06-11', '2019-06-10', '2019-06-09', '2019-06-08', '2019-06-06', '2019-06-05', '2019-06-04', '2019-06-03', '2019-06-02', '2019-06-01', '2019-05-31', '2019-05-30', '2019-05-29', '2019-05-28', '2019-05-27', '2019-05-26', '2019-05-25', '2019-05-24']\n",
        "cmb_dfd = pd.DataFrame()\n",
        "cmb_df2d = pd.DataFrame()"
      ],
      "metadata": {
        "id": "OjXTeICchYwJ"
      },
      "execution_count": null,
      "outputs": []
    },
    {
      "cell_type": "code",
      "source": [
        "# Stock price for movie Aladdin\n",
        "for date in datesd:\n",
        "  df_dated = fdf2d[fdf2d['retrieved_at'].str.contains(date)]\n",
        "  first_dated = df_dated.iloc[0]\n",
        "\n",
        "  cmb_dfd = pd.concat([cmb_dfd, first_dated.to_frame().T])\n",
        "\n",
        "#print(cmb_dfa)\n",
        "#print(df_datea)"
      ],
      "metadata": {
        "id": "mQvGVeNWha47"
      },
      "execution_count": null,
      "outputs": []
    },
    {
      "cell_type": "code",
      "source": [
        "fdf3d = df33[df33['identifier'] == 'rl3246360065']\n",
        "print(fdf3d)"
      ],
      "metadata": {
        "colab": {
          "base_uri": "https://localhost:8080/"
        },
        "id": "bF97CE46hcq9",
        "outputId": "8ec6ba68-4b7f-42ce-fd13-4878a6ce9ce2"
      },
      "execution_count": null,
      "outputs": [
        {
          "output_type": "stream",
          "name": "stdout",
          "text": [
            "          bo_date    identifier  daily_domestic_gross  daily_theater_count  \\\n",
            "9742   2019-10-24  rl3246360065                  1994                 45.0   \n",
            "9804   2019-10-23  rl3246360065                  1790                 45.0   \n",
            "9871   2019-10-22  rl3246360065                  1650                 45.0   \n",
            "9930   2019-10-21  rl3246360065                  1551                 45.0   \n",
            "9989   2019-10-20  rl3246360065                  5268                 45.0   \n",
            "...           ...           ...                   ...                  ...   \n",
            "17801  2019-05-28  rl3246360065              12014982               4476.0   \n",
            "17850  2019-05-27  rl3246360065              25305033               4476.0   \n",
            "17900  2019-05-26  rl3246360065              30128699               4476.0   \n",
            "17949  2019-05-25  rl3246360065              30013295               4476.0   \n",
            "17998  2019-05-24  rl3246360065              31358935               4476.0   \n",
            "\n",
            "                  retrieved_at                     inserted_at  \n",
            "9742   2019-12-31 11:17:54 UTC  2020-10-29 09:31:32.321988 UTC  \n",
            "9804   2019-12-31 11:17:52 UTC  2020-10-29 09:31:32.321988 UTC  \n",
            "9871   2019-12-31 11:17:50 UTC  2020-10-29 09:31:32.321988 UTC  \n",
            "9930   2019-12-31 11:17:48 UTC  2020-10-29 09:31:32.321988 UTC  \n",
            "9989   2019-12-31 11:17:47 UTC  2020-10-29 09:31:32.321988 UTC  \n",
            "...                        ...                             ...  \n",
            "17801  2019-06-27 23:45:02 UTC  2020-10-29 09:31:32.321988 UTC  \n",
            "17850  2019-06-26 23:45:03 UTC  2020-10-29 09:31:32.321988 UTC  \n",
            "17900  2019-06-25 23:45:02 UTC  2020-10-29 09:31:32.321988 UTC  \n",
            "17949  2019-06-24 23:45:02 UTC  2020-10-29 09:31:32.321988 UTC  \n",
            "17998  2019-06-23 23:45:02 UTC  2020-10-29 09:31:32.321988 UTC  \n",
            "\n",
            "[154 rows x 6 columns]\n"
          ]
        }
      ]
    },
    {
      "cell_type": "code",
      "source": [
        "# Box office for movie Aladdin\n",
        "for date in datesd:\n",
        "  df_date2d = fdf3d[fdf3d['bo_date'].str.contains(date)]\n",
        "  first_date2d = df_date2d.iloc[0]\n",
        "\n",
        "  cmb_df2d = pd.concat([cmb_df2d, first_date2d.to_frame().T])\n",
        "\n",
        "#print(cmb_df2a)"
      ],
      "metadata": {
        "id": "WfDPj8sghe0s"
      },
      "execution_count": null,
      "outputs": []
    },
    {
      "cell_type": "code",
      "source": [
        "from numpy.lib import bincount\n",
        "ad = cmb_dfd['price'].to_numpy()\n",
        "bd = cmb_df2d['daily_domestic_gross'].to_numpy()\n",
        "a_nrmd = (ad - np.mean(ad)) / np.std(ad) / len(ad)\n",
        "b_nrmd = (bd - np.mean(bd)) / np.std(bd)"
      ],
      "metadata": {
        "id": "2Bl1_r12hkls"
      },
      "execution_count": null,
      "outputs": []
    },
    {
      "cell_type": "code",
      "source": [
        "corrd = np.correlate(a_nrmd, b_nrmd, mode='same')\n",
        "#print(corr)"
      ],
      "metadata": {
        "id": "qonwSMiDhmJc"
      },
      "execution_count": null,
      "outputs": []
    },
    {
      "cell_type": "code",
      "source": [
        "fig = plt.figure(figsize=[10, 6])\n",
        "plt.plot(corrd)\n",
        "plt.title('CCF for Aladdin')\n",
        "plt.xlabel('Lag')\n",
        "plt.ylabel('Correlation')\n",
        "plt.show()"
      ],
      "metadata": {
        "colab": {
          "base_uri": "https://localhost:8080/",
          "height": 404
        },
        "id": "R1nI3v6yhnt7",
        "outputId": "2f5cdca5-a91a-445c-c9fe-93e109202501"
      },
      "execution_count": null,
      "outputs": [
        {
          "output_type": "display_data",
          "data": {
            "text/plain": [
              "<Figure size 720x432 with 1 Axes>"
            ],
            "image/png": "[encoded data removed]"
          },
          "metadata": {
            "needs_background": "light"
          }
        }
      ]
    }
  ]
}